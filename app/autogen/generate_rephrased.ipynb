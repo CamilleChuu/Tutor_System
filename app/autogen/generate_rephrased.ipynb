{
 "cells": [
  {
   "cell_type": "code",
   "execution_count": null,
   "metadata": {},
   "outputs": [],
   "source": [
    "import re, json, time, os\n",
    "from app.autogen.generate_response import rephrase"
   ]
  },
  {
   "cell_type": "code",
   "execution_count": null,
   "metadata": {},
   "outputs": [],
   "source": [
    "for file in os.listdir(\"./app/json\"):\n",
    "    if file.endswith(\"json\") and (not os.path.exists(os.path.join(\"./app/json\", 'rephrase', file))):\n",
    "        with open(os.path.join(\"./app/json\", file), 'r') as f: msg = json.load(f)\n",
    "        print('processing ...', file)\n",
    "        q = list(msg.keys())[0]\n",
    "        msg = msg[q]\n",
    "        new_msg = {}\n",
    "        new_msg[q] = {}\n",
    "        for k1 in msg.keys():\n",
    "            if \"Stage\" in k1:\n",
    "                s = msg[k1]\n",
    "                new_msg[q][k1] = {}\n",
    "                for k2 in s.keys():\n",
    "                    if \"Expectation\" in k2:\n",
    "                        e = s[k2]\n",
    "                        new_msg[q][k1][k2] = {}\n",
    "                        for k3 in e.keys():\n",
    "                            if \"Hint\" in k3:\n",
    "                                hint = e[k3]\n",
    "                                hint_list = []\n",
    "                                if not isinstance(hint, list):\n",
    "                                    hint = [hint]\n",
    "                                for step in range(10):\n",
    "                                    hint_tmp = []\n",
    "                                    for hint_content in hint:\n",
    "                                        if not hint_content.endswith(')'): # text hint\n",
    "                                            hint_step = rephrase(str(hint_content))\n",
    "                                        else: # action hint\n",
    "                                            hint_step = hint_content\n",
    "                                        hint_tmp.append(hint_step)\n",
    "                                    hint_list.append(hint_tmp)\n",
    "                                    new_msg[q][k1][k2][k3] = hint_list\n",
    "                                    with open(os.path.join(\"./app/json\", 'rephrase', file), 'w') as g: msg = json.dump(new_msg, g)\n",
    "        print('ended ...', file)"
   ]
  }
 ],
 "metadata": {
  "language_info": {
   "name": "python"
  }
 },
 "nbformat": 4,
 "nbformat_minor": 2
}
